{
 "cells": [
  {
   "cell_type": "markdown",
   "metadata": {},
   "source": [
    "## データ取得関数"
   ]
  },
  {
   "cell_type": "code",
   "execution_count": 17,
   "metadata": {},
   "outputs": [
    {
     "name": "stdout",
     "output_type": "stream",
     "text": [
      "先頭データ:20220110 15:35 UNIX時間:1641796500\n",
      "末尾データ:20220131 15:00 UNIX時間:1643608800\n",
      "合計:6000件のデータを取得\n"
     ]
    }
   ],
   "source": [
    "import requests\n",
    "from datetime import datetime\n",
    "import time\n",
    "\n",
    "def get_price(min, before=0, after=0):\n",
    "    price = []\n",
    "    params = {'periods': min}\n",
    "    if before != 0:\n",
    "        params['bofore'] = before\n",
    "    if after != 0:\n",
    "        params['after'] = after\n",
    "\n",
    "    response = requests.get(\"https://api.cryptowat.ch/markets/bitflyer/btcfxjpy/ohlc\",params)\n",
    "    data = response.json()\n",
    "\n",
    "    if data['result'][str(min)]:\n",
    "        for i in data['result'][str(min)]:\n",
    "            price.append({\n",
    "                'close_time': i[0],\n",
    "                'close_time_dt': datetime.fromtimestamp(i[0]).strftime('%Y/%m/%d %H:%M'),\n",
    "                'open_price': i[1],\n",
    "                'high_price': i[2],\n",
    "                'low_price': i[3],\n",
    "                'close_price': i[4]\n",
    "            })\n",
    "        return price\n",
    "    else:\n",
    "        print('データが存在しません')\n",
    "        return"
   ]
  },
  {
   "cell_type": "code",
   "execution_count": null,
   "metadata": {},
   "outputs": [],
   "source": [
    "# データ取得 メイン関数\n",
    "price = get_price(300, after=1514764800)\n",
    "\n",
    "if price:\n",
    "    print('先頭データ:' + price[0]['close_time_dt'] + ' UNIX時間:' + str(price[0]['close_time']))\n",
    "    print('末尾データ:' + price[-1]['close_time_dt'] + ' UNIX時間:' + str(price[-1]['close_time']))\n",
    "    print('合計:' + str(len(price)) + '件のデータを取得')\n"
   ]
  },
  {
   "cell_type": "code",
   "execution_count": 34,
   "metadata": {},
   "outputs": [],
   "source": [
    "# jsonファイルで保存\n",
    "import json\n",
    "\n",
    "st = price[0]['close_time']\n",
    "ed = price[-1]['close_time']\n",
    "file = open(f'./{st}-{ed}-price.json', 'w', encoding='UTF-8')\n",
    "json.dump(price, file, indent=4)"
   ]
  },
  {
   "cell_type": "code",
   "execution_count": 36,
   "metadata": {},
   "outputs": [],
   "source": [
    "# csvで保存\n",
    "import pandas as pd\n",
    "\n",
    "st = price[0]['close_time']\n",
    "ed = price[-1]['close_time']\n",
    "df = pd.DataFrame(price)\n",
    "df.to_csv(f'{st}-{ed}-price_5min.csv', index=False)\n"
   ]
  },
  {
   "cell_type": "code",
   "execution_count": null,
   "metadata": {},
   "outputs": [],
   "source": [
    "# jsonファイル読み込み\n",
    "import json\n",
    "def get_price_from_file(path):\n",
    "    file = open(path, 'r', encoding='UTF-8')\n",
    "    price = json.load(file)\n",
    "    return price"
   ]
  }
 ],
 "metadata": {
  "interpreter": {
   "hash": "fcfeb7584455255b0b48e8cc35a27b2c2cae177b0db42e3ee7e3857ee1dc1acf"
  },
  "kernelspec": {
   "display_name": "Python 3.9.2 64-bit ('.py39mlenv': venv)",
   "language": "python",
   "name": "python3"
  },
  "language_info": {
   "codemirror_mode": {
    "name": "ipython",
    "version": 3
   },
   "file_extension": ".py",
   "mimetype": "text/x-python",
   "name": "python",
   "nbconvert_exporter": "python",
   "pygments_lexer": "ipython3",
   "version": "3.9.2"
  },
  "orig_nbformat": 4
 },
 "nbformat": 4,
 "nbformat_minor": 2
}
