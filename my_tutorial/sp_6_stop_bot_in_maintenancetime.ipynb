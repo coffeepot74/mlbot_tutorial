{
 "cells": [
  {
   "cell_type": "code",
   "execution_count": null,
   "metadata": {},
   "outputs": [],
   "source": [
    "from datetime import datetime\n",
    "wait = 60\n",
    "maintenance_start = '03:59:30'\n",
    "maintenance_end = '04:10:30'\n",
    "\n",
    "# 以下のループは、メインコードのwhile文\n",
    "# メインの中にこのコードを挿入する\n",
    "while True:\n",
    "    st = datetime.strptime(maintenance_start, '%H:%M:%S').strftime('%H:%M:%S')\n",
    "    et = datetime.strptime(maintenance_end,'%H:%M:%S').strftime('%H:%M:%S')\n",
    "    nt = datetime.now().strftime('%H:%M:%S')\n",
    "\n",
    "    if nt > st and nt < et:\n",
    "        print('メンテナンス時間中のため待機中...')\n",
    "        time.sleep(wait)\n",
    "        continue"
   ]
  },
  {
   "cell_type": "code",
   "execution_count": null,
   "metadata": {},
   "outputs": [],
   "source": []
  }
 ],
 "metadata": {
  "interpreter": {
   "hash": "fcfeb7584455255b0b48e8cc35a27b2c2cae177b0db42e3ee7e3857ee1dc1acf"
  },
  "kernelspec": {
   "display_name": "Python 3.9.2 64-bit ('.py39mlenv': venv)",
   "language": "python",
   "name": "python3"
  },
  "language_info": {
   "name": "python",
   "version": "3.9.2"
  },
  "orig_nbformat": 4
 },
 "nbformat": 4,
 "nbformat_minor": 2
}
