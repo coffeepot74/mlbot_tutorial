{
 "cells": [
  {
   "cell_type": "markdown",
   "metadata": {},
   "source": [
    "## データ取得"
   ]
  },
  {
   "cell_type": "code",
   "execution_count": 5,
   "metadata": {},
   "outputs": [
    {
     "name": "stdout",
     "output_type": "stream",
     "text": [
      "{'product_code': 'BTC_JPY', 'state': 'RUNNING', 'timestamp': '2022-01-19T03:10:41.753', 'tick_id': 41367778, 'best_bid': 4852095.0, 'best_ask': 4854107.0, 'best_bid_size': 0.1, 'best_ask_size': 0.05, 'total_bid_depth': 566.25160929, 'total_ask_depth': 516.23615341, 'market_bid_size': 0.0, 'market_ask_size': 0.0, 'ltp': 4853000.0, 'volume': 8355.53627651, 'volume_by_product': 2262.95366543}\n"
     ]
    }
   ],
   "source": [
    "# bitflyerからティッカーを取得\n",
    "import requests\n",
    "response = requests.get(\"https://api.bitflyer.jp/v1/ticker/\")\n",
    "# json形式に変換\n",
    "data = response.json()\n",
    "print(data)\n",
    "print(data['best_bid'])"
   ]
  },
  {
   "cell_type": "code",
   "execution_count": 10,
   "metadata": {},
   "outputs": [
    {
     "data": {
      "text/plain": [
       "<Response [200]>"
      ]
     },
     "execution_count": 10,
     "metadata": {},
     "output_type": "execute_result"
    }
   ],
   "source": [
    "# 期間を指定してcryptowatchからデータを取得\n",
    "response = requests.get('https://api.cryptowat.ch/markets/bitflyer/btcjpy/ohlc?periods=86400&after=1514764800')\n",
    "response"
   ]
  },
  {
   "cell_type": "code",
   "execution_count": 36,
   "metadata": {},
   "outputs": [
    {
     "name": "stdout",
     "output_type": "stream",
     "text": [
      "354350\n"
     ]
    }
   ],
   "source": [
    "min_ = 10**9\n",
    "for num, val in enumerate(response['result']['86400']):\n",
    "    # print(num, val, val[3])\n",
    "    min_ = min(min_, val[3])\n",
    "print(min_)"
   ]
  },
  {
   "cell_type": "markdown",
   "metadata": {},
   "source": [
    "## 指値注文"
   ]
  },
  {
   "cell_type": "code",
   "execution_count": null,
   "metadata": {},
   "outputs": [],
   "source": [
    "# api経由で指し値注文を入れる\n",
    "# ccxtを使えば簡単だが、勉強用に書いたコード\n",
    "import hashlib\n",
    "import hmac\n",
    "import requests\n",
    "import datetime\n",
    "import json\n",
    "\n",
    "api_key = ''\n",
    "api_secret = ''\n",
    "\n",
    "base_url = 'https://api.bitflyer.jp'\n",
    "path_url = '/v1/me/sendchildorder'\n",
    "method = 'POST'\n",
    "\n",
    "timestamp = str(datetime.datetime.today())\n",
    "\n",
    "param = {\n",
    "\t\"product_code\" : \"FX_BTC_JPY\",\n",
    "\t\"child_order_type\" : \"LIMIT\",\n",
    "\t\"side\" : \"BUY\",\n",
    "\t\"price\" : 指値,\n",
    "\t\"size\" : 0.01,\n",
    "}\n",
    "body = json.dumps(params)\n",
    "\n",
    "message = timestamp + method + path_url + body\n",
    "signature = hmac.new(bytearray(api_secret.encode('utf-8')), message.encode('utf-8'), digestmod = hashlib.sha256).hexdigest()\n",
    "\n",
    "headers = {\n",
    "\t'ACCESS-KEY' : api_key,\n",
    "\t'ACCESS-TIMESTAMP' : timestamp,\n",
    "\t'ACCESS-SIGN' : signature,\n",
    "\t'Content-Type' : 'application/json'\n",
    "}\n",
    "\n",
    "response = requests.post(base_url + path_url, data=body, headers = headers )\n",
    "print(response.status_code)\n",
    "print(response.json())"
   ]
  },
  {
   "cell_type": "markdown",
   "metadata": {},
   "source": [
    "## ティッカー情報取得"
   ]
  },
  {
   "cell_type": "code",
   "execution_count": 1,
   "metadata": {},
   "outputs": [
    {
     "name": "stdout",
     "output_type": "stream",
     "text": [
      "{'ask': 4425592.0,\n",
      " 'askVolume': None,\n",
      " 'average': None,\n",
      " 'baseVolume': 8066.46025461,\n",
      " 'bid': 4424499.0,\n",
      " 'bidVolume': None,\n",
      " 'change': None,\n",
      " 'close': 4425692.0,\n",
      " 'datetime': '2022-01-28T21:52:22.897Z',\n",
      " 'high': None,\n",
      " 'info': {'best_ask': '4425592.0',\n",
      "          'best_ask_size': '0.02',\n",
      "          'best_bid': '4424499.0',\n",
      "          'best_bid_size': '0.04',\n",
      "          'ltp': '4425692.0',\n",
      "          'market_ask_size': '0.0',\n",
      "          'market_bid_size': '0.0',\n",
      "          'product_code': 'FX_BTC_JPY',\n",
      "          'state': 'RUNNING',\n",
      "          'tick_id': '13551749',\n",
      "          'timestamp': '2022-01-28T21:52:22.897',\n",
      "          'total_ask_depth': '170.02476421',\n",
      "          'total_bid_depth': '397.81560699',\n",
      "          'volume': '8070.80825461',\n",
      "          'volume_by_product': '8066.46025461'},\n",
      " 'last': 4425692.0,\n",
      " 'low': None,\n",
      " 'open': None,\n",
      " 'percentage': None,\n",
      " 'previousClose': None,\n",
      " 'quoteVolume': None,\n",
      " 'symbol': 'BTC/JPY',\n",
      " 'timestamp': 1643406742897,\n",
      " 'vwap': None}\n"
     ]
    }
   ],
   "source": [
    "# ccxtでティッカー情報を取得\n",
    "import ccxt\n",
    "from pprint import pprint\n",
    "\n",
    "bitflyer = ccxt.bitflyer()\n",
    "ticker = bitflyer.fetch_ticker('BTC/JPY', params = {'product_code' : 'FX_BTC_JPY'} )\n",
    "pprint(ticker)"
   ]
  },
  {
   "cell_type": "markdown",
   "metadata": {},
   "source": [
    "## FXの証拠金残高を確認\n",
    "ccxtには、Bitflyerで BTC-FX の証拠金残高を取得する共通の関数がない  \n",
    "ccxt経由で直接apiを操作して情報を取得するには、以下の用にするして関数を作る\n",
    "取引所のAPIを使うためのコード  \n",
    "X）プライベートAPIかパブリックAPIか？  \n",
    "Y）メソッドはGET方式か？POST方式か？  \n",
    "Z）APIのリクエストURL（パス）は？  \n",
    "->> 関数名 ： .X_Y_Z()  \n",
    "https://ryota-trade.com/?p=629  "
   ]
  },
  {
   "cell_type": "code",
   "execution_count": null,
   "metadata": {},
   "outputs": [],
   "source": [
    "# 取引所のAPIを使うためのコード\n",
    "# X）プライベートAPIかパブリックAPIか？\n",
    "# Y）メソッドはGET方式か？POST方式か？\n",
    "# Z）APIのリクエストURL（パス）は？\n",
    "# ->> 関数名 ： .X_Y_Z()\n",
    "# https://ryota-trade.com/?p=629\n",
    "import ccxt\n",
    "from pprint import pprint\n",
    "\n",
    "bitflyer = ccxt.bitflyer()\n",
    "bitflyer.apiKey = ''\n",
    "bitflyer.secret = ''\n",
    "\n",
    "collateral = bitflyer.private_get_getcollateral()\n",
    "pprint(collateral)"
   ]
  },
  {
   "cell_type": "code",
   "execution_count": 43,
   "metadata": {},
   "outputs": [
    {
     "name": "stdout",
     "output_type": "stream",
     "text": [
      "publicAPI True\n",
      "privateAPI True\n",
      "cancelOrder True\n",
      "createLimitOrder True\n",
      "createMarketOrder True\n",
      "createOrder True\n",
      "fetchBalance True\n",
      "fetchL2OrderBook True\n",
      "fetchMarkets True\n",
      "fetchMyTrades True\n",
      "fetchOrderBook True\n",
      "fetchOrders True\n",
      "fetchPositions True\n",
      "fetchTicker True\n",
      "fetchTrades True\n",
      "loadMarkets True\n",
      "withdraw True\n"
     ]
    }
   ],
   "source": [
    "# 取引所が対応している共通のcopy_contextの関数\n",
    "import ccxt\n",
    "bitflyer = ccxt.bitflyer()\n",
    "method_list = bitflyer.has\n",
    "\n",
    "for key, val in method_list.items():\n",
    "    if val == True:\n",
    "        print(key, val)"
   ]
  },
  {
   "cell_type": "code",
   "execution_count": null,
   "metadata": {},
   "outputs": [],
   "source": [
    "# 注文情報の取得\n",
    "import ccxt\n",
    "from pprint import pprint\n",
    "\n",
    "bitflyer = ccxt.bitflyer()\n",
    "bitflyer.apiKey = ''\n",
    "bitflyer.secret = ''\n",
    "\n",
    "# open_order:まだ約定していない注文のこと\n",
    "order = bitflyer.fetch_open_orders(\n",
    "    symbol = 'BTC/JPY', \n",
    "    params = {'product_code', 'FX_BTC_JPY'}\n",
    ")\n",
    "pprint(orders)"
   ]
  },
  {
   "cell_type": "code",
   "execution_count": null,
   "metadata": {},
   "outputs": [],
   "source": [
    "# 注文情報のID取得\n",
    "import ccxt\n",
    "from pprint import pprint\n",
    "\n",
    "bitflyer = ccxt.bitflyer()\n",
    "bitflyer.apiKey = ''\n",
    "bitflyer.secret = ''\n",
    "\n",
    "orders = bitflyer.fetch_open_orders(\n",
    "    symbol = 'BTC/JPY',\n",
    "    params = {'product_code' : 'FX_BTC_JPY'}\n",
    " )\n",
    "\n",
    " for o in orders:\n",
    "     pprint(o['id'])"
   ]
  },
  {
   "cell_type": "code",
   "execution_count": null,
   "metadata": {},
   "outputs": [],
   "source": [
    "# 注文情報の状況を取得\n",
    "import ccxt\n",
    "from pprint import pprint\n",
    "\n",
    "bitflyer = ccxt.bitflyer()\n",
    "bitflyer.apikey = ''\n",
    "bitflyer.secret = ''\n",
    "\n",
    "orders = bitflyer.fetch_orders(\n",
    "    symbol = 'BTC/JPY',\n",
    "    params = {'product_code' : 'FX_BTC_JPY', 'count' : 10}\n",
    ")\n",
    "\n",
    "for o in orders:\n",
    "    print(o['id'] + ' : 注文状況 ' + o['status'])"
   ]
  },
  {
   "cell_type": "code",
   "execution_count": null,
   "metadata": {},
   "outputs": [],
   "source": [
    "# 注文のキャンセル\n",
    "bitflyer.cancel_order(\n",
    "    symbol = 'BTC/JPY',\n",
    "    id = ''\n",
    "    params = {'product_code' : 'FX_BTC_JPY'}\n",
    ")"
   ]
  },
  {
   "cell_type": "code",
   "execution_count": null,
   "metadata": {},
   "outputs": [],
   "source": [
    "# Cryptowatchからbitflyerのデータを取得\n",
    "# ローソク足を取得\n",
    "import requests\n",
    "from datetime import datetime\n",
    "import time\n",
    "\n",
    "# 1分足\n",
    "response = requests.get('https://api.cryptowat.ch/markets/bitflyer/btcfxjpy/ohlc?periods=60')\n",
    "response = response.json()"
   ]
  },
  {
   "cell_type": "code",
   "execution_count": 4,
   "metadata": {},
   "outputs": [
    {
     "name": "stdout",
     "output_type": "stream",
     "text": [
      "時間： 2022/01/20 13:05 始値： 4937280 終値： 4936938\n"
     ]
    }
   ],
   "source": [
    "# 一つ前のローソク足を取得（終値が確定したものの最新）\n",
    "# [-1]だと、終値がまだ確定していない\n",
    "data = response['result']['60'][-2]\n",
    "\n",
    "close_time = datetime.fromtimestamp(data[0]).strftime('%Y/%m/%d %H:%M')\n",
    "open_price = data[1]\n",
    "close_price = data[4]\n",
    "\n",
    "print(\"時間: \" + close_time\n",
    "\t+ \" 始値: \" + str(open_price)\n",
    "\t+ \" 終値: \" + str(close_price) )"
   ]
  },
  {
   "cell_type": "code",
   "execution_count": null,
   "metadata": {},
   "outputs": [],
   "source": [
    "# 10秒でデータを取って繰り返す。\n",
    "import requests\n",
    "from datetime import datetime\n",
    "import time\n",
    "\n",
    "while True:\n",
    "    response = response.get('https://api.cryptowat.ch/markets/bitflyer/btcfxjpy/ohlc?periods=60')\n",
    "    \n",
    "    data = response['result']['60'][-2]\n",
    "\n",
    "    close_time = datetime.fromtimestamp(data[0]).strftime('%Y/%m/%d %H:%M')\n",
    "    open_price = data[1]\n",
    "    close_price = data[4]\n",
    "\n",
    "    print(\"時間: \" + close_time\n",
    "        + \" 始値: \" + str(open_price)\n",
    "        + \" 終値: \" + str(close_price))\n",
    "\n",
    "    time.sleep(10)"
   ]
  },
  {
   "cell_type": "code",
   "execution_count": 8,
   "metadata": {},
   "outputs": [
    {
     "name": "stdout",
     "output_type": "stream",
     "text": [
      "3\n"
     ]
    }
   ],
   "source": [
    "# 上にループを抜けるコードがないと、以下のコードはグレーアウトする\n",
    "y = 1 + 2\n",
    "print(y)"
   ]
  },
  {
   "cell_type": "code",
   "execution_count": 5,
   "metadata": {},
   "outputs": [],
   "source": [
    "# 更新された時だけprintする\n",
    "import requests\n",
    "from datetime import datetime\n",
    "import time\n",
    "\n",
    "\n",
    "response = requests.get(\"https://api.cryptowat.ch/markets/bitflyer/btcfxjpy/ohlc?periods=60\")\n",
    "response = response.json()\n",
    "\n",
    "# 前回の時間を last_time に入れる\n",
    "last_data = response[\"result\"][\"60\"][-2]\n",
    "last_time = datetime.fromtimestamp(last_data[0]).strftime('%Y/%m/%d %H:%M')\n",
    "time.sleep(10)\n",
    "\n",
    "while True:\n",
    "    response = requests.get(\"https://api.cryptowat.ch/markets/bitflyer/btcfxjpy/ohlc?periods=60\")\n",
    "    response = response.json()\n",
    "\n",
    "    data = response['result']['60'][-2]\n",
    "\n",
    "    close_time = datetime.fromtimestamp(data[0]).strftime('%Y/%m/%d %H:%M')\n",
    "    open_price = data[1]\n",
    "    close_price = data[4]\n",
    "    if close_time != last_time:\n",
    "        print(\"時間: \" + close_time\n",
    "\t\t\t+ \" 始値: \" + str(open_price)\n",
    "\t\t\t+ \" 終値: \" + str(close_price))\n",
    "\n",
    "        last_time = close_time\n",
    "\n",
    "    time.sleep(10)\n",
    "\n"
   ]
  }
 ],
 "metadata": {
  "interpreter": {
   "hash": "fcfeb7584455255b0b48e8cc35a27b2c2cae177b0db42e3ee7e3857ee1dc1acf"
  },
  "kernelspec": {
   "display_name": "Python 3.9.2 64-bit ('.py39mlenv': venv)",
   "language": "python",
   "name": "python3"
  },
  "language_info": {
   "codemirror_mode": {
    "name": "ipython",
    "version": 3
   },
   "file_extension": ".py",
   "mimetype": "text/x-python",
   "name": "python",
   "nbconvert_exporter": "python",
   "pygments_lexer": "ipython3",
   "version": "3.9.2"
  },
  "orig_nbformat": 4
 },
 "nbformat": 4,
 "nbformat_minor": 2
}
