{
 "cells": [
  {
   "cell_type": "markdown",
   "metadata": {},
   "source": [
    "## ログ"
   ]
  },
  {
   "cell_type": "code",
   "execution_count": 4,
   "metadata": {},
   "outputs": [],
   "source": [
    "# loggerの設定\n",
    "import time\n",
    "from logging import getLogger, Formatter, StreamHandler,FileHandler, INFO\n",
    "\n",
    "logger = getLogger(__name__)\n",
    "handlerSh = StreamHandler() # ログをストリームに送信\n",
    "handlerFile = FileHandler('/Users/fumi/Documents/GitHub/mlbot_tutorial/my_tutorial/mylog.log') #ログをファイルに送信\n",
    "handlerSh.setLevel(INFO)\n",
    "handlerFile.setLevel(INFO)\n",
    "logger.setLevel(INFO)\n",
    "logger.addHandler(handlerSh)   #logオブジェクトにハンドラを追加 \n",
    "logger.addHandler(handlerFile)\n"
   ]
  },
  {
   "cell_type": "code",
   "execution_count": null,
   "metadata": {},
   "outputs": [],
   "source": [
    "# ログをメールに送信\n",
    "import smtplib\n",
    "from email.message import EmailMessage\n",
    "from datetime import datetime\n",
    "\n",
    "with open('mylog.log') as f:\n",
    "    msg = EmailMessage()\n",
    "    msg.set_content(f.read())\n",
    "    \n",
    "info_time = datetime.now().strftime('%Y/%m/%d-%H:%M')\n",
    "msg['Subject'] = f'BOTの稼働状況の通知:{info_time}'\n",
    "msg['From'] = 'アドレス'\n",
    "msg['To'] = 'アドレス'\n",
    "\n",
    "server = smtplib.SMTP('smtp.gmail.com', 587)\n",
    "server.starttls()\n",
    "server.login('アカウント', 'pass')\n",
    "server.sendmaol(msg['From'], msg['To'], msg.as_string())\n",
    "server.close()"
   ]
  }
 ],
 "metadata": {
  "interpreter": {
   "hash": "fcfeb7584455255b0b48e8cc35a27b2c2cae177b0db42e3ee7e3857ee1dc1acf"
  },
  "kernelspec": {
   "display_name": "Python 3.9.2 64-bit ('.py39mlenv': venv)",
   "language": "python",
   "name": "python3"
  },
  "language_info": {
   "codemirror_mode": {
    "name": "ipython",
    "version": 3
   },
   "file_extension": ".py",
   "mimetype": "text/x-python",
   "name": "python",
   "nbconvert_exporter": "python",
   "pygments_lexer": "ipython3",
   "version": "3.9.2"
  },
  "orig_nbformat": 4
 },
 "nbformat": 4,
 "nbformat_minor": 2
}
